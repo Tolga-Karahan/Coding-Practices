{
 "cells": [
  {
   "cell_type": "code",
   "execution_count": 7,
   "metadata": {},
   "outputs": [
    {
     "data": {
      "text/plain": [
       "[('a', 3), ('b', 3), ('c', 2), ('a', 2), ('f', 1)]"
      ]
     },
     "execution_count": 7,
     "metadata": {},
     "output_type": "execute_result"
    }
   ],
   "source": [
    "seq = 'aaabbbccaaf'\n",
    "\n",
    "pos = 0\n",
    "result = list()\n",
    "for i in range(len(seq)):\n",
    "    if i == (len(seq) - 1):\n",
    "        result.append((seq[i], seq[pos:].count(seq[i])))\n",
    "    elif seq[i] != seq[i+1]:\n",
    "        result.append((seq[i], seq[pos:i+1].count(seq[i])))\n",
    "        pos = i\n",
    "        \n",
    "result"
   ]
  },
  {
   "cell_type": "code",
   "execution_count": 9,
   "metadata": {},
   "outputs": [
    {
     "data": {
      "text/plain": [
       "[('a', 3), ('b', 3), ('c', 2), ('a', 1)]"
      ]
     },
     "execution_count": 9,
     "metadata": {},
     "output_type": "execute_result"
    }
   ],
   "source": [
    "def f(seq):\n",
    "    pos = 0\n",
    "    result = list()\n",
    "    for i in range(len(seq)):\n",
    "        if i == (len(seq) - 1):\n",
    "            result.append((seq[i], seq[pos:].count(seq[i])))\n",
    "        elif seq[i] != seq[i+1]:\n",
    "            result.append((seq[i], seq[pos:i+1].count(seq[i])))\n",
    "            pos = i\n",
    "    return result\n",
    "\n",
    "seq = 'aaabbbcca'\n",
    "f(seq)"
   ]
  }
 ],
 "metadata": {
  "kernelspec": {
   "display_name": "Python 3",
   "language": "python",
   "name": "python3"
  },
  "language_info": {
   "codemirror_mode": {
    "name": "ipython",
    "version": 3
   },
   "file_extension": ".py",
   "mimetype": "text/x-python",
   "name": "python",
   "nbconvert_exporter": "python",
   "pygments_lexer": "ipython3",
   "version": "3.7.6"
  }
 },
 "nbformat": 4,
 "nbformat_minor": 4
}
